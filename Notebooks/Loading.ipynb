{
 "cells": [
  {
   "cell_type": "markdown",
   "metadata": {},
   "source": [
    "# Loading and preparing images\n",
    "\n",
    "This is a tutorial on how to load images and make them ready for downstream analysis.\n",
    "\n",
    "The images has to be binary .tiff files and are therefore assumed to be thresholded already (black (zero) if no signal is detected and white (one) if signal is detected). The .tiff files can contain multiple layers, or there can be a .tiff for each layer. Both are accepted, more on this later."
   ]
  },
  {
   "cell_type": "markdown",
   "metadata": {},
   "source": [
    "### The example images can be downloaded from the following links:\n",
    "Four species biofilm (for quantification and layer-based analysis):\n",
    "https://github.com/Russel88/RCon3D/blob/master/ExampleData.zip\n",
    "\n",
    "Two species in alginate beads (for finding aggregates):\n",
    "https://github.com/Russel88/RCon3D/blob/master/ExampleData2.7z\n",
    "\n",
    "The last is the one used in this example"
   ]
  },
  {
   "cell_type": "markdown",
   "metadata": {},
   "source": [
    "### Load package"
   ]
  },
  {
   "cell_type": "code",
   "execution_count": null,
   "metadata": {
    "collapsed": true
   },
   "outputs": [],
   "source": [
    "library(RCon3D)"
   ]
  },
  {
   "cell_type": "markdown",
   "metadata": {},
   "source": [
    "## Loading the images\n",
    "Specify paths of images and set the working directory"
   ]
  },
  {
   "cell_type": "code",
   "execution_count": null,
   "metadata": {
    "collapsed": true
   },
   "outputs": [],
   "source": [
    "path <- \"/Projects/Alginate beads/Images\"\n",
    "setwd(gsub(\"/Images\",\"\",path))"
   ]
  },
  {
   "cell_type": "markdown",
   "metadata": {},
   "source": [
    "### Convert tiff to R-friendly RDS files\n",
    "`loadIMG` creates the RDS files, and when we run the script again we can just use `findIMG` to get the paths for the RDS files.\n",
    "\n",
    "`channels` should be unique and exclusive names in the filenames of the images. \n",
    "\n",
    "The following might give warnings about TIFF image tags that cannot be read. This should not be a problem."
   ]
  },
  {
   "cell_type": "code",
   "execution_count": null,
   "metadata": {
    "collapsed": true
   },
   "outputs": [],
   "source": [
    "img <- loadIMG(path, channels = c(\"C0\",\"C1\"))"
   ]
  },
  {
   "cell_type": "markdown",
   "metadata": {},
   "source": [
    "Check that the number of images are as expected:"
   ]
  },
  {
   "cell_type": "code",
   "execution_count": null,
   "metadata": {
    "collapsed": true
   },
   "outputs": [],
   "source": [
    "print(img)"
   ]
  },
  {
   "cell_type": "markdown",
   "metadata": {},
   "source": [
    "If the images has been loaded previously, we can use `findIMG` to get the paths:"
   ]
  },
  {
   "cell_type": "code",
   "execution_count": null,
   "metadata": {
    "collapsed": true
   },
   "outputs": [],
   "source": [
    "# img <- findIMG(path)"
   ]
  },
  {
   "cell_type": "markdown",
   "metadata": {},
   "source": [
    "We test the dimensions of the loaded images to ensure they are as expected:"
   ]
  },
  {
   "cell_type": "code",
   "execution_count": null,
   "metadata": {},
   "outputs": [],
   "source": [
    "lapply(1:length(img), function(x) dim(readRDS(img[x])))"
   ]
  },
  {
   "cell_type": "markdown",
   "metadata": {},
   "source": [
    "`img` contains the paths for the RDS files, and this is the input for subsequent analyses."
   ]
  },
  {
   "cell_type": "markdown",
   "metadata": {},
   "source": [
    "## Prepare images (optional)\n",
    "If the channels do not correspond to the microbial strains we need to prepare the images before further analysis.\n",
    "\n",
    "In this example channel C1 stains both strains. C0 correspond to only one of the strains (Xanthomonas).\n",
    "Xanthomonas is therefore the pixels where both C0 and C1 is detected. The other strain, Paenibacillus, is only the C1 pixels where C0 is not observed"
   ]
  },
  {
   "cell_type": "markdown",
   "metadata": {},
   "source": [
    "#### Paenibacillus is C1 - C0"
   ]
  },
  {
   "cell_type": "code",
   "execution_count": null,
   "metadata": {
    "collapsed": true
   },
   "outputs": [],
   "source": [
    "img.pan <- merge_channels(path, img, channels = c(\"C1\",\"C0\"), method = \"subtract\")"
   ]
  },
  {
   "cell_type": "markdown",
   "metadata": {},
   "source": [
    "#### Xanthomonas is C0 AND C1"
   ]
  },
  {
   "cell_type": "code",
   "execution_count": null,
   "metadata": {
    "collapsed": true
   },
   "outputs": [],
   "source": [
    "img.xan <- merge_channels(path, img, channels = c(\"C1\",\"C0\"), method = \"intersect\")"
   ]
  },
  {
   "cell_type": "markdown",
   "metadata": {},
   "source": [
    "#### If they have already been created:"
   ]
  },
  {
   "cell_type": "code",
   "execution_count": null,
   "metadata": {
    "collapsed": true
   },
   "outputs": [],
   "source": [
    "# img.pan <- img[grep(\"RCon3D.C1.C0.subtract\",img)]\n",
    "# img.xan <- img[grep(\"RCon3D.C1.C0.intersect\",img)]"
   ]
  },
  {
   "cell_type": "markdown",
   "metadata": {},
   "source": [
    "Check that the paths are correct:"
   ]
  },
  {
   "cell_type": "code",
   "execution_count": null,
   "metadata": {
    "collapsed": true
   },
   "outputs": [],
   "source": [
    "print(img.pan)\n",
    "print(img.xan)"
   ]
  },
  {
   "cell_type": "markdown",
   "metadata": {},
   "source": [
    "## The null channel (optional)\n",
    "\n",
    "For some analyses we might want arrays corresponding to all the empty space in the images. This could for example be used to estimate the amount of empty space around a certain channel. "
   ]
  },
  {
   "cell_type": "code",
   "execution_count": null,
   "metadata": {},
   "outputs": [],
   "source": [
    "img_empty <- create_nulls(img, channels = c(\"C0\",\"C1\"))"
   ]
  },
  {
   "cell_type": "markdown",
   "metadata": {},
   "source": [
    "`img_empty` then contains the paths for the RDS files corresponding to the empty space, or more precisely, the space note occupied by either \"C0\" or \"C1\"."
   ]
  }
 ],
 "metadata": {
  "kernelspec": {
   "display_name": "R",
   "language": "R",
   "name": "ir"
  },
  "language_info": {
   "codemirror_mode": "r",
   "file_extension": ".r",
   "mimetype": "text/x-r-source",
   "name": "R",
   "pygments_lexer": "r",
   "version": "3.4.2"
  }
 },
 "nbformat": 4,
 "nbformat_minor": 2
}
