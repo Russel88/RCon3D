{
 "cells": [
  {
   "cell_type": "markdown",
   "metadata": {},
   "source": [
    "# Quantification\n",
    "\n",
    "This is a tutorial on quantification of confocal images. Images are assumed to be converted to RDS files already"
   ]
  },
  {
   "cell_type": "markdown",
   "metadata": {},
   "source": [
    "### Load packages"
   ]
  },
  {
   "cell_type": "code",
   "execution_count": 1,
   "metadata": {
    "collapsed": true
   },
   "outputs": [
    {
     "name": "stderr",
     "output_type": "stream",
     "text": [
      "Warning message:\n",
      "\"package 'ggplot2' was built under R version 3.4.3\""
     ]
    }
   ],
   "source": [
    "library(ggplot2)\n",
    "library(RCon3D)"
   ]
  },
  {
   "cell_type": "markdown",
   "metadata": {},
   "source": [
    "### Find the images"
   ]
  },
  {
   "cell_type": "code",
   "execution_count": 2,
   "metadata": {
    "scrolled": false
   },
   "outputs": [],
   "source": [
    "img <- findIMG(\"//a00143.science.domain/cmf483/Documents/PhD/Packages/RCon3D/Data\")"
   ]
  },
  {
   "cell_type": "markdown",
   "metadata": {},
   "source": [
    "## Quantify pixels for each layer for each channel"
   ]
  },
  {
   "cell_type": "code",
   "execution_count": 3,
   "metadata": {
    "scrolled": false
   },
   "outputs": [],
   "source": [
    "myq <- quant(img,channels=c(\"xan\",\"pan\",\"mic\",\"ste\"),naming=list(Time=c(\"24h\")))"
   ]
  },
  {
   "cell_type": "markdown",
   "metadata": {},
   "source": [
    "The naming argument is optional but can be used to look through the names of the images and add corresponding variables\n",
    "Here it looks for \"24h\" in the image name, and makes a variable called Time.\n",
    "This is of course only useful when there are several images with different metadata: eg. Time=c(\"12h\",\"24h\").\n",
    "\n",
    "#### Plot the quantification\n",
    "We reverse the x-axis (looks like y-axis because plot is flipped) because the first layers are the top of the specimen and the last the bottom."
   ]
  },
  {
   "cell_type": "code",
   "execution_count": 4,
   "metadata": {},
   "outputs": [
    {
     "data": {},
     "metadata": {},
     "output_type": "display_data"
    },
    {
     "data": {
      "image/png": "[encoded data removed]",
      "text/plain": [
       "plot without title"
      ]
     },
     "metadata": {},
     "output_type": "display_data"
    }
   ],
   "source": [
    "p <- ggplot(data = myq, aes(x = Layer,y = Count, colour = Channel, group = Channel)) +\n",
    "  theme_classic() +\n",
    "  geom_freqpoly(stat = \"identity\", position = position_dodge(width = 0), size = 1) +\n",
    "  scale_x_reverse() +\n",
    "  coord_flip()\n",
    "p"
   ]
  },
  {
   "cell_type": "markdown",
   "metadata": {},
   "source": [
    "#### Quantification for entire image"
   ]
  },
  {
   "cell_type": "code",
   "execution_count": 5,
   "metadata": {
    "scrolled": false
   },
   "outputs": [],
   "source": [
    "fullq <- aggregate(Count ~ ., data = myq[, colnames(myq) != \"Layer\"], FUN = sum)"
   ]
  },
  {
   "cell_type": "markdown",
   "metadata": {},
   "source": [
    "If `pwidth` is the pixel width and `zstep` is the distance between the layers we can calculate the the biovolume:"
   ]
  },
  {
   "cell_type": "code",
   "execution_count": 6,
   "metadata": {},
   "outputs": [
    {
     "data": {
      "text/html": [
       "<table>\n",
       "<thead><tr><th scope=col>Img</th><th scope=col>Channel</th><th scope=col>Time</th><th scope=col>Count</th><th scope=col>Biovolume</th></tr></thead>\n",
       "<tbody>\n",
       "\t<tr><td>FourSpecies24h_xan</td><td>xan               </td><td>24h               </td><td> 3552673          </td><td> 499594.6         </td></tr>\n",
       "\t<tr><td>FourSpecies24h_pan</td><td>pan               </td><td>24h               </td><td>26685719          </td><td>3752679.2         </td></tr>\n",
       "\t<tr><td>FourSpecies24h_mic</td><td>mic               </td><td>24h               </td><td> 1291929          </td><td> 181677.5         </td></tr>\n",
       "\t<tr><td>FourSpecies24h_ste</td><td>ste               </td><td>24h               </td><td> 7192105          </td><td>1011389.8         </td></tr>\n",
       "</tbody>\n",
       "</table>\n"
      ],
      "text/latex": [
       "\\begin{tabular}{r|lllll}\n",
       " Img & Channel & Time & Count & Biovolume\\\\\n",
       "\\hline\n",
       "\t FourSpecies24h\\_xan & xan                  & 24h                  &  3552673             &  499594.6           \\\\\n",
       "\t FourSpecies24h\\_pan & pan                  & 24h                  & 26685719             & 3752679.2           \\\\\n",
       "\t FourSpecies24h\\_mic & mic                  & 24h                  &  1291929             &  181677.5           \\\\\n",
       "\t FourSpecies24h\\_ste & ste                  & 24h                  &  7192105             & 1011389.8           \\\\\n",
       "\\end{tabular}\n"
      ],
      "text/markdown": [
       "\n",
       "Img | Channel | Time | Count | Biovolume | \n",
       "|---|---|---|---|\n",
       "| FourSpecies24h_xan | xan                | 24h                |  3552673           |  499594.6          | \n",
       "| FourSpecies24h_pan | pan                | 24h                | 26685719           | 3752679.2          | \n",
       "| FourSpecies24h_mic | mic                | 24h                |  1291929           |  181677.5          | \n",
       "| FourSpecies24h_ste | ste                | 24h                |  7192105           | 1011389.8          | \n",
       "\n",
       "\n"
      ],
      "text/plain": [
       "  Img                Channel Time Count    Biovolume\n",
       "1 FourSpecies24h_xan xan     24h   3552673  499594.6\n",
       "2 FourSpecies24h_pan pan     24h  26685719 3752679.2\n",
       "3 FourSpecies24h_mic mic     24h   1291929  181677.5\n",
       "4 FourSpecies24h_ste ste     24h   7192105 1011389.8"
      ]
     },
     "metadata": {},
     "output_type": "display_data"
    }
   ],
   "source": [
    "# In microns:\n",
    "pwidth <- 0.75\n",
    "zstep <- 0.25\n",
    "\n",
    "# In cubic microns\n",
    "fullq$Biovolume <- fullq$Count * pwidth^2 * zstep\n",
    "\n",
    "fullq"
   ]
  },
  {
   "cell_type": "markdown",
   "metadata": {},
   "source": [
    "## Section the quantification\n",
    "\n",
    "We can split the image in top, middle and bottom based on various criteria.\n",
    "Here we define the Top as all layers from the very top until 75 percent of the image is filled (`pt = 0.75`). The bottom is the bottom 20 layers (`add.b = 20`). The middle is the rest. Note that the top of the specimen is in the layers with the low numbers, hence `layer.start = \"Top\"`. `add.t` is how many layers to add to the top, after `pt` calculation (e.g. `pt = 0` and `add.t = 10` will specify the top as the top 10 layers)"
   ]
  },
  {
   "cell_type": "code",
   "execution_count": 7,
   "metadata": {
    "scrolled": false
   },
   "outputs": [],
   "source": [
    "myq.split <- layer_split(myq, layer.start = \"Top\", side = 512, pt = 0.75, add.b = 20, add.t = 0)"
   ]
  },
  {
   "cell_type": "markdown",
   "metadata": {},
   "source": [
    "#### Plot the results"
   ]
  },
  {
   "cell_type": "code",
   "execution_count": 8,
   "metadata": {},
   "outputs": [
    {
     "data": {},
     "metadata": {},
     "output_type": "display_data"
    },
    {
     "data": {
      "image/png": "[encoded data removed]",
      "text/plain": [
       "plot without title"
      ]
     },
     "metadata": {},
     "output_type": "display_data"
    }
   ],
   "source": [
    "p <- ggplot(data = myq.split, aes(x = Layer, y = Count, colour = Split, group = Split)) +\n",
    "  theme_classic() +\n",
    "  geom_freqpoly(stat = \"identity\", position = position_dodge(width = 0), size = 1) +\n",
    "  scale_x_reverse() +\n",
    "  coord_flip() +\n",
    "  facet_grid(.~Channel)\n",
    "p"
   ]
  },
  {
   "cell_type": "markdown",
   "metadata": {
    "collapsed": true,
    "scrolled": true
   },
   "source": []
  }
 ],
 "metadata": {
  "kernelspec": {
   "display_name": "R",
   "language": "R",
   "name": "ir"
  },
  "language_info": {
   "codemirror_mode": "r",
   "file_extension": ".r",
   "mimetype": "text/x-r-source",
   "name": "R",
   "pygments_lexer": "r",
   "version": "3.4.2"
  }
 },
 "nbformat": 4,
 "nbformat_minor": 2
}
