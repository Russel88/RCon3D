{
 "cells": [
  {
   "cell_type": "markdown",
   "metadata": {},
   "source": [
    "# Co-aggregation and relative positioning\n",
    "\n",
    "This is a tutorial on using various algorithms for exploring how different microbes are positioned relative to each other. \n",
    "\n",
    "There are three different functions for this:\n",
    "`occupancy`: How much space does a channel (target) occupy at certain distances from another channel (focal).\n",
    "`co_agg`: Co-aggregation of two strains. An undirected version of `occupancy`\n",
    "`cross_ratio`: At each distance from a focal channel, what is the ratio between two target channels.\n",
    "\n",
    "`occupancy` returns both the observed occupied space and a normalized version where 1 is equivalent the the expectation given random positioning. `co_agg` and `cross_ratio` only returns the normalized versions. For `co_agg` a CA value above 1 at a certain distance means that the channels (microbes) are positioned more at this distance than expected from random chance, and for CA values below 1 vice versa. For `cross_ratio` a CR value above 1 at some distance means that the ratio between the two target strains at that distance is higher than expected and vice versa."
   ]
  },
  {
   "cell_type": "markdown",
   "metadata": {},
   "source": [
    "### Load packages"
   ]
  },
  {
   "cell_type": "code",
   "execution_count": 1,
   "metadata": {
    "collapsed": true
   },
   "outputs": [
    {
     "name": "stderr",
     "output_type": "stream",
     "text": [
      "Warning message:\n",
      "\"package 'ggplot2' was built under R version 3.4.3\""
     ]
    }
   ],
   "source": [
    "library(RCon3D)\n",
    "library(ggplot2)\n",
    "library(rootSolve)"
   ]
  },
  {
   "cell_type": "markdown",
   "metadata": {},
   "source": [
    "### Find images"
   ]
  },
  {
   "cell_type": "code",
   "execution_count": null,
   "metadata": {
    "collapsed": true
   },
   "outputs": [],
   "source": [
    "img <- findIMG(\"/Data\")"
   ]
  },
  {
   "cell_type": "markdown",
   "metadata": {},
   "source": [
    "### Preparation\n",
    "First we find out how many microns we can scan. It has to be a multiple of both zstep and pwidth.\n",
    "When more microns are scanned runtime increases exponetially. Therefore, choose the lowest number of microns that is biologically meaningful, and increase them carefully if needed. Beware these functions can take some time to run."
   ]
  },
  {
   "cell_type": "code",
   "execution_count": 3,
   "metadata": {},
   "outputs": [
    {
     "data": {
      "text/html": [
       "<ol class=list-inline>\n",
       "\t<li>0</li>\n",
       "\t<li>1.5</li>\n",
       "\t<li>3</li>\n",
       "\t<li>4.5</li>\n",
       "\t<li>6</li>\n",
       "\t<li>7.5</li>\n",
       "\t<li>9</li>\n",
       "\t<li>10.5</li>\n",
       "\t<li>12</li>\n",
       "\t<li>13.5</li>\n",
       "\t<li>15</li>\n",
       "\t<li>16.5</li>\n",
       "\t<li>18</li>\n",
       "\t<li>19.5</li>\n",
       "\t<li>21</li>\n",
       "\t<li>22.5</li>\n",
       "\t<li>24</li>\n",
       "\t<li>25.5</li>\n",
       "\t<li>27</li>\n",
       "\t<li>28.5</li>\n",
       "\t<li>30</li>\n",
       "</ol>\n"
      ],
      "text/latex": [
       "\\begin{enumerate*}\n",
       "\\item 0\n",
       "\\item 1.5\n",
       "\\item 3\n",
       "\\item 4.5\n",
       "\\item 6\n",
       "\\item 7.5\n",
       "\\item 9\n",
       "\\item 10.5\n",
       "\\item 12\n",
       "\\item 13.5\n",
       "\\item 15\n",
       "\\item 16.5\n",
       "\\item 18\n",
       "\\item 19.5\n",
       "\\item 21\n",
       "\\item 22.5\n",
       "\\item 24\n",
       "\\item 25.5\n",
       "\\item 27\n",
       "\\item 28.5\n",
       "\\item 30\n",
       "\\end{enumerate*}\n"
      ],
      "text/markdown": [
       "1. 0\n",
       "2. 1.5\n",
       "3. 3\n",
       "4. 4.5\n",
       "5. 6\n",
       "6. 7.5\n",
       "7. 9\n",
       "8. 10.5\n",
       "9. 12\n",
       "10. 13.5\n",
       "11. 15\n",
       "12. 16.5\n",
       "13. 18\n",
       "14. 19.5\n",
       "15. 21\n",
       "16. 22.5\n",
       "17. 24\n",
       "18. 25.5\n",
       "19. 27\n",
       "20. 28.5\n",
       "21. 30\n",
       "\n",
       "\n"
      ],
      "text/plain": [
       " [1]  0.0  1.5  3.0  4.5  6.0  7.5  9.0 10.5 12.0 13.5 15.0 16.5 18.0 19.5 21.0\n",
       "[16] 22.5 24.0 25.5 27.0 28.5 30.0"
      ]
     },
     "metadata": {},
     "output_type": "display_data"
    }
   ],
   "source": [
    "pwidth <- 0.75\n",
    "zstep <- 0.25\n",
    "uniroot.all(function(x) x%%pwidth + x%%zstep,interval=c(0,30))"
   ]
  },
  {
   "cell_type": "markdown",
   "metadata": {},
   "source": [
    "## Occupancy\n",
    "`npixel` is the number of randomly chosen pixels for the estimation. `R` is the number of times to repeat the analysis. If the results are very different between the repeats you probably need more pixels. "
   ]
  },
  {
   "cell_type": "code",
   "execution_count": 4,
   "metadata": {},
   "outputs": [
    {
     "name": "stderr",
     "output_type": "stream",
     "text": [
      "Starting run 1\n"
     ]
    },
    {
     "name": "stdout",
     "output_type": "stream",
     "text": [
      "\r",
      "  |                                                                            \r",
      "  |                                                                      |   0%"
     ]
    },
    {
     "name": "stderr",
     "output_type": "stream",
     "text": [
      "Starting run 2\n"
     ]
    },
    {
     "name": "stdout",
     "output_type": "stream",
     "text": [
      "\r",
      "  |                                                                            \r",
      "  |                                                                      |   0%"
     ]
    },
    {
     "name": "stderr",
     "output_type": "stream",
     "text": [
      "Starting run 3\n"
     ]
    },
    {
     "name": "stdout",
     "output_type": "stream",
     "text": [
      "\r",
      "  |                                                                            \r",
      "  |                                                                      |   0%"
     ]
    },
    {
     "name": "stderr",
     "output_type": "stream",
     "text": [
      "Starting run 4\n"
     ]
    },
    {
     "name": "stdout",
     "output_type": "stream",
     "text": [
      "\r",
      "  |                                                                            \r",
      "  |                                                                      |   0%"
     ]
    },
    {
     "name": "stderr",
     "output_type": "stream",
     "text": [
      "Starting run 5\n"
     ]
    },
    {
     "name": "stdout",
     "output_type": "stream",
     "text": [
      "\r",
      "  |                                                                            \r",
      "  |                                                                      |   0%"
     ]
    }
   ],
   "source": [
    "myocc <- occupancy(imgs=img,focal.channel=\"ste\",target.channel=\"xan\",\n",
    "                   size=15,npixel=100,dstep=1,pwidth=0.75,zstep=0.25,R=5)"
   ]
  },
  {
   "cell_type": "markdown",
   "metadata": {},
   "source": [
    "#### Plot results\n",
    "The red line is the actual proportion occupied, the black line is normalized such that random equals 1"
   ]
  },
  {
   "cell_type": "code",
   "execution_count": 5,
   "metadata": {},
   "outputs": [
    {
     "data": {},
     "metadata": {},
     "output_type": "display_data"
    },
    {
     "data": {
      "image/png": "[encoded data removed]",
      "text/plain": [
       "plot without title"
      ]
     },
     "metadata": {},
     "output_type": "display_data"
    }
   ],
   "source": [
    "p <- ggplot(myocc,aes(x=Distance,y=Occupancy,group=R)) +\n",
    "  theme_classic() +\n",
    "  geom_hline(yintercept=1) +\n",
    "  geom_line(colour=\"Red\") +\n",
    "  geom_line(data=myocc,aes(x=Distance,y=Occupancy.Normalized,group=R))\n",
    "p"
   ]
  },
  {
   "cell_type": "markdown",
   "metadata": {},
   "source": [
    "## Co-aggregation"
   ]
  },
  {
   "cell_type": "code",
   "execution_count": 6,
   "metadata": {},
   "outputs": [
    {
     "name": "stderr",
     "output_type": "stream",
     "text": [
      "Starting run 1\n"
     ]
    },
    {
     "name": "stdout",
     "output_type": "stream",
     "text": [
      "\r",
      "  |                                                                            \r",
      "  |                                                                      |   0%"
     ]
    },
    {
     "name": "stderr",
     "output_type": "stream",
     "text": [
      "Starting run 2\n"
     ]
    },
    {
     "name": "stdout",
     "output_type": "stream",
     "text": [
      "\r",
      "  |                                                                            \r",
      "  |                                                                      |   0%"
     ]
    },
    {
     "name": "stderr",
     "output_type": "stream",
     "text": [
      "Starting run 3\n"
     ]
    },
    {
     "name": "stdout",
     "output_type": "stream",
     "text": [
      "\r",
      "  |                                                                            \r",
      "  |                                                                      |   0%"
     ]
    },
    {
     "name": "stderr",
     "output_type": "stream",
     "text": [
      "Starting run 4\n"
     ]
    },
    {
     "name": "stdout",
     "output_type": "stream",
     "text": [
      "\r",
      "  |                                                                            \r",
      "  |                                                                      |   0%"
     ]
    },
    {
     "name": "stderr",
     "output_type": "stream",
     "text": [
      "Starting run 5\n"
     ]
    },
    {
     "name": "stdout",
     "output_type": "stream",
     "text": [
      "\r",
      "  |                                                                            \r",
      "  |                                                                      |   0%"
     ]
    }
   ],
   "source": [
    "mycc <- co_agg(imgs=img,channels=c(\"xan\",\"ste\"),size=15,npixel=100,dstep=1,pwidth=0.75,zstep=0.25,R=5)"
   ]
  },
  {
   "cell_type": "markdown",
   "metadata": {},
   "source": [
    "#### Plot the results"
   ]
  },
  {
   "cell_type": "code",
   "execution_count": 7,
   "metadata": {},
   "outputs": [
    {
     "data": {},
     "metadata": {},
     "output_type": "display_data"
    },
    {
     "data": {
      "image/png": "[encoded data removed]",
      "text/plain": [
       "plot without title"
      ]
     },
     "metadata": {},
     "output_type": "display_data"
    }
   ],
   "source": [
    "p <- ggplot(mycc,aes(x=Distance,y=CA,group=R)) +\n",
    "  theme_classic() +\n",
    "  geom_hline(yintercept=1) +\n",
    "  geom_line() \n",
    "p"
   ]
  },
  {
   "cell_type": "markdown",
   "metadata": {},
   "source": [
    "Aggregate the analytic repeats and plot again:"
   ]
  },
  {
   "cell_type": "code",
   "execution_count": 8,
   "metadata": {},
   "outputs": [
    {
     "data": {},
     "metadata": {},
     "output_type": "display_data"
    },
    {
     "data": {
      "image/png": "[encoded data removed]",
      "text/plain": [
       "plot without title"
      ]
     },
     "metadata": {},
     "output_type": "display_data"
    }
   ],
   "source": [
    "mycc2 <- aggregate(CA ~ ., data = mycc[,colnames(mycc) != \"R\"], FUN = mean)\n",
    "\n",
    "p <- ggplot(mycc2,aes(x=Distance,y=CA)) +\n",
    "  theme_classic() +\n",
    "  geom_hline(yintercept=1) +\n",
    "  geom_line()\n",
    "p"
   ]
  },
  {
   "cell_type": "markdown",
   "metadata": {},
   "source": [
    "At small distances \"xan\" and \"ste\" appear to be intermixed more than expected from random chance"
   ]
  },
  {
   "cell_type": "markdown",
   "metadata": {},
   "source": [
    "## Cross-ratio\n",
    "Lets find the ratio of \"xan\"/\"pan\" at different distances from \"mic\""
   ]
  },
  {
   "cell_type": "code",
   "execution_count": 9,
   "metadata": {},
   "outputs": [
    {
     "name": "stderr",
     "output_type": "stream",
     "text": [
      "Starting run 1\n"
     ]
    },
    {
     "name": "stdout",
     "output_type": "stream",
     "text": [
      "\r",
      "  |                                                                            \r",
      "  |                                                                      |   0%"
     ]
    },
    {
     "name": "stderr",
     "output_type": "stream",
     "text": [
      "Starting run 2\n"
     ]
    },
    {
     "name": "stdout",
     "output_type": "stream",
     "text": [
      "\r",
      "  |                                                                            \r",
      "  |                                                                      |   0%"
     ]
    },
    {
     "name": "stderr",
     "output_type": "stream",
     "text": [
      "Starting run 3\n"
     ]
    },
    {
     "name": "stdout",
     "output_type": "stream",
     "text": [
      "\r",
      "  |                                                                            \r",
      "  |                                                                      |   0%"
     ]
    },
    {
     "name": "stderr",
     "output_type": "stream",
     "text": [
      "Starting run 4\n"
     ]
    },
    {
     "name": "stdout",
     "output_type": "stream",
     "text": [
      "\r",
      "  |                                                                            \r",
      "  |                                                                      |   0%"
     ]
    },
    {
     "name": "stderr",
     "output_type": "stream",
     "text": [
      "Starting run 5\n"
     ]
    },
    {
     "name": "stdout",
     "output_type": "stream",
     "text": [
      "\r",
      "  |                                                                            \r",
      "  |                                                                      |   0%"
     ]
    }
   ],
   "source": [
    "mycr <- cross_ratio(imgs=img,focal.channel=\"mic\",target.channels=c(\"xan\",\"pan\"),size=15,npixel=100,dstep=1,pwidth=0.75,zstep=0.25,R=5)"
   ]
  },
  {
   "cell_type": "markdown",
   "metadata": {},
   "source": [
    "#### Plot the results"
   ]
  },
  {
   "cell_type": "code",
   "execution_count": 10,
   "metadata": {},
   "outputs": [
    {
     "data": {},
     "metadata": {},
     "output_type": "display_data"
    },
    {
     "data": {
      "image/png": "[encoded data removed]",
      "text/plain": [
       "plot without title"
      ]
     },
     "metadata": {},
     "output_type": "display_data"
    }
   ],
   "source": [
    "p <- ggplot(mycr,aes(x=Distance,y=CR,group=R)) +\n",
    "  theme_classic() +\n",
    "  geom_hline(yintercept=1) +\n",
    "  geom_line() \n",
    "p"
   ]
  },
  {
   "cell_type": "markdown",
   "metadata": {},
   "source": [
    "Close to \"mic\" we are more likely to find \"xan\" than \"pan\""
   ]
  },
  {
   "cell_type": "markdown",
   "metadata": {},
   "source": [
    "## Simulation\n",
    "\n",
    "Lets simulate some random images and check that the algorithms work. Lets make an image with the dimensions 100x100x20. Two strains with the occupancies of 2% and 50% that are not allowed to overlap."
   ]
  },
  {
   "cell_type": "code",
   "execution_count": 11,
   "metadata": {
    "collapsed": true
   },
   "outputs": [],
   "source": [
    "set.seed(1)\n",
    "test <- create_random(getwd(), overlap = FALSE, side = 100, h = 20, probs = c(0.02,0.5))"
   ]
  },
  {
   "cell_type": "markdown",
   "metadata": {},
   "source": [
    "#### Run the co-aggregation algorithm:"
   ]
  },
  {
   "cell_type": "code",
   "execution_count": 12,
   "metadata": {},
   "outputs": [
    {
     "name": "stderr",
     "output_type": "stream",
     "text": [
      "Starting run 1\n"
     ]
    },
    {
     "name": "stdout",
     "output_type": "stream",
     "text": [
      "\r",
      "  |                                                                            \r",
      "  |                                                                      |   0%"
     ]
    },
    {
     "name": "stderr",
     "output_type": "stream",
     "text": [
      "Starting run 2\n"
     ]
    },
    {
     "name": "stdout",
     "output_type": "stream",
     "text": [
      "\r",
      "  |                                                                            \r",
      "  |                                                                      |   0%"
     ]
    },
    {
     "name": "stderr",
     "output_type": "stream",
     "text": [
      "Starting run 3\n"
     ]
    },
    {
     "name": "stdout",
     "output_type": "stream",
     "text": [
      "\r",
      "  |                                                                            \r",
      "  |                                                                      |   0%"
     ]
    },
    {
     "name": "stderr",
     "output_type": "stream",
     "text": [
      "Starting run 4\n"
     ]
    },
    {
     "name": "stdout",
     "output_type": "stream",
     "text": [
      "\r",
      "  |                                                                            \r",
      "  |                                                                      |   0%"
     ]
    },
    {
     "name": "stderr",
     "output_type": "stream",
     "text": [
      "Starting run 5\n"
     ]
    },
    {
     "name": "stdout",
     "output_type": "stream",
     "text": [
      "\r",
      "  |                                                                            \r",
      "  |                                                                      |   0%"
     ]
    }
   ],
   "source": [
    "rand_ca <- co_agg(test, channels = c(\"Ch1\",\"Ch2\"), size = 5, npixel = 1000, R = 5, pwidth = 1, zstep = 1)"
   ]
  },
  {
   "cell_type": "markdown",
   "metadata": {},
   "source": [
    "#### Plot the results"
   ]
  },
  {
   "cell_type": "code",
   "execution_count": 13,
   "metadata": {},
   "outputs": [
    {
     "data": {},
     "metadata": {},
     "output_type": "display_data"
    },
    {
     "data": {
      "image/png": "[encoded data removed]",
      "text/plain": [
       "plot without title"
      ]
     },
     "metadata": {},
     "output_type": "display_data"
    }
   ],
   "source": [
    "p <- ggplot(rand_ca, aes(Distance, CA)) +\n",
    "  theme_classic() +\n",
    "  geom_hline(yintercept = 1) +\n",
    "  geom_point()\n",
    "p"
   ]
  },
  {
   "cell_type": "markdown",
   "metadata": {},
   "source": [
    "CA at distance 0 is 0 as expected (i.e. complete exclusion, they are simulated such that they don't overlap). At all other distances CA values are close to 1, corresponding to random positioning."
   ]
  }
 ],
 "metadata": {
  "kernelspec": {
   "display_name": "R",
   "language": "R",
   "name": "ir"
  },
  "language_info": {
   "codemirror_mode": "r",
   "file_extension": ".r",
   "mimetype": "text/x-r-source",
   "name": "R",
   "pygments_lexer": "r",
   "version": "3.4.2"
  }
 },
 "nbformat": 4,
 "nbformat_minor": 2
}
